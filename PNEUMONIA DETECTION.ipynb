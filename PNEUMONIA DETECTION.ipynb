{
 "cells": [
  {
   "cell_type": "code",
   "execution_count": 2,
   "metadata": {},
   "outputs": [],
   "source": [
    "#ignoring the warnings since tensor flow will give  a lot of them\n",
    "import warnings\n",
    "warnings.filterwarnings(\"ignore\")\n",
    "\n",
    "# Importing all libraries\n",
    "import tensorflow as tf"
   ]
  },
  {
   "cell_type": "code",
   "execution_count": 3,
   "metadata": {},
   "outputs": [],
   "source": [
    "from tensorflow.keras.models import Sequential\n",
    "from tensorflow.keras.layers import Dense, Conv2D, Flatten, Dropout, MaxPooling2D, Activation,BatchNormalization\n",
    "import pickle"
   ]
  },
  {
   "cell_type": "code",
   "execution_count": 4,
   "metadata": {},
   "outputs": [],
   "source": [
    "#Load data from pickle files we stored before\n",
    "pickle_in=open(\"x_train.pickle\",\"rb\")\n",
    "x_train=pickle.load(pickle_in)\n",
    "\n",
    "pickle_in=open(\"y_train.pickle\",\"rb\")\n",
    "y_train=pickle.load(pickle_in)\n",
    "\n",
    "pickle_in=open(\"x_test.pickle\",\"rb\")\n",
    "x_test=pickle.load(pickle_in)\n",
    "\n",
    "pickle_in=open(\"y_test.pickle\",\"rb\")\n",
    "y_test=pickle.load(pickle_in)\n",
    "\n",
    "pickle_in=open(\"x_val.pickle\",\"rb\")\n",
    "x_val=pickle.load(pickle_in)\n",
    "\n",
    "pickle_in=open(\"y_val.pickle\",\"rb\")\n",
    "y_val=pickle.load(pickle_in)"
   ]
  },
  {
   "cell_type": "code",
   "execution_count": 5,
   "metadata": {},
   "outputs": [],
   "source": [
    "# Normalize the data. For pixel data max value of x is 255.0\n",
    "\n",
    "x_train=x_train/255\n",
    "x_test=x_test/255\n",
    "x_val=x_val/255"
   ]
  },
  {
   "cell_type": "code",
   "execution_count": 6,
   "metadata": {},
   "outputs": [],
   "source": [
    "# CNN Model Creation"
   ]
  },
  {
   "cell_type": "code",
   "execution_count": 7,
   "metadata": {},
   "outputs": [],
   "source": [
    "# Importing TensorBoard\n",
    "%load_ext tensorboard\n",
    "from tensorflow.keras.callbacks import TensorBoard\n",
    "import time\n",
    "\n",
    "Name=\"Pnemonia-{}\".format(int(time.time())) #This will add different time stamps as we run the model\n",
    "tb=TensorBoard()"
   ]
  },
  {
   "cell_type": "code",
   "execution_count": 8,
   "metadata": {},
   "outputs": [],
   "source": [
    "#If we are running a big algorithm or many algorithms, we can use this so that each algorithm uses 1/3rd of the RAM only\n",
    "\n",
    "gpu_options= tf.GPUOptions(per_process_gpu_memory_fraction=0.333)\n",
    "sess= tf.Session(config=tf.ConfigProto(gpu_options=gpu_options))"
   ]
  },
  {
   "cell_type": "code",
   "execution_count": 9,
   "metadata": {},
   "outputs": [
    {
     "name": "stdout",
     "output_type": "stream",
     "text": [
      "WARNING:tensorflow:From C:\\Users\\AYAN\\anaconda3\\ANACONDA_NEW\\lib\\site-packages\\tensorflow\\python\\ops\\init_ops.py:1251: calling VarianceScaling.__init__ (from tensorflow.python.ops.init_ops) with dtype is deprecated and will be removed in a future version.\n",
      "Instructions for updating:\n",
      "Call initializer instance with the dtype argument instead of passing it to the constructor\n",
      "Model: \"sequential\"\n",
      "_________________________________________________________________\n",
      "Layer (type)                 Output Shape              Param #   \n",
      "=================================================================\n",
      "conv2d (Conv2D)              (None, 79, 79, 128)       640       \n",
      "_________________________________________________________________\n",
      "activation (Activation)      (None, 79, 79, 128)       0         \n",
      "_________________________________________________________________\n",
      "dropout (Dropout)            (None, 79, 79, 128)       0         \n",
      "_________________________________________________________________\n",
      "max_pooling2d (MaxPooling2D) (None, 26, 26, 128)       0         \n",
      "=================================================================\n",
      "Total params: 640\n",
      "Trainable params: 640\n",
      "Non-trainable params: 0\n",
      "_________________________________________________________________\n"
     ]
    }
   ],
   "source": [
    "# Creating the model\n",
    "model = Sequential()\n",
    "\n",
    "# Adding first layer\n",
    "\n",
    "model.add(Conv2D(128,(2,2),input_shape=x_train.shape[1:])) # -1 does not show shape\n",
    "model.add(Activation('relu'))\n",
    "#model.add(BatchNormalization())\n",
    "model.add(Dropout(rate=0.20))\n",
    "model.add(MaxPooling2D(pool_size=(3,3)))\n",
    "model.summary()"
   ]
  },
  {
   "cell_type": "code",
   "execution_count": 10,
   "metadata": {},
   "outputs": [
    {
     "name": "stdout",
     "output_type": "stream",
     "text": [
      "Model: \"sequential\"\n",
      "_________________________________________________________________\n",
      "Layer (type)                 Output Shape              Param #   \n",
      "=================================================================\n",
      "conv2d (Conv2D)              (None, 79, 79, 128)       640       \n",
      "_________________________________________________________________\n",
      "activation (Activation)      (None, 79, 79, 128)       0         \n",
      "_________________________________________________________________\n",
      "dropout (Dropout)            (None, 79, 79, 128)       0         \n",
      "_________________________________________________________________\n",
      "max_pooling2d (MaxPooling2D) (None, 26, 26, 128)       0         \n",
      "_________________________________________________________________\n",
      "conv2d_1 (Conv2D)            (None, 25, 25, 64)        32832     \n",
      "_________________________________________________________________\n",
      "activation_1 (Activation)    (None, 25, 25, 64)        0         \n",
      "_________________________________________________________________\n",
      "dropout_1 (Dropout)          (None, 25, 25, 64)        0         \n",
      "_________________________________________________________________\n",
      "max_pooling2d_1 (MaxPooling2 (None, 8, 8, 64)          0         \n",
      "=================================================================\n",
      "Total params: 33,472\n",
      "Trainable params: 33,472\n",
      "Non-trainable params: 0\n",
      "_________________________________________________________________\n"
     ]
    }
   ],
   "source": [
    "# Adding second layer\n",
    "\n",
    "model.add(Conv2D(64,(2,2),input_shape=x_train.shape[1:])) # -1 does not show shape\n",
    "model.add(Activation('relu'))\n",
    "#model.add(BatchNormalization())\n",
    "model.add(Dropout(rate=0.20))\n",
    "model.add(MaxPooling2D(pool_size=(3,3)))\n",
    "model.summary()"
   ]
  },
  {
   "cell_type": "code",
   "execution_count": 11,
   "metadata": {},
   "outputs": [
    {
     "name": "stdout",
     "output_type": "stream",
     "text": [
      "Model: \"sequential\"\n",
      "_________________________________________________________________\n",
      "Layer (type)                 Output Shape              Param #   \n",
      "=================================================================\n",
      "conv2d (Conv2D)              (None, 79, 79, 128)       640       \n",
      "_________________________________________________________________\n",
      "activation (Activation)      (None, 79, 79, 128)       0         \n",
      "_________________________________________________________________\n",
      "dropout (Dropout)            (None, 79, 79, 128)       0         \n",
      "_________________________________________________________________\n",
      "max_pooling2d (MaxPooling2D) (None, 26, 26, 128)       0         \n",
      "_________________________________________________________________\n",
      "conv2d_1 (Conv2D)            (None, 25, 25, 64)        32832     \n",
      "_________________________________________________________________\n",
      "activation_1 (Activation)    (None, 25, 25, 64)        0         \n",
      "_________________________________________________________________\n",
      "dropout_1 (Dropout)          (None, 25, 25, 64)        0         \n",
      "_________________________________________________________________\n",
      "max_pooling2d_1 (MaxPooling2 (None, 8, 8, 64)          0         \n",
      "_________________________________________________________________\n",
      "conv2d_2 (Conv2D)            (None, 7, 7, 64)          16448     \n",
      "_________________________________________________________________\n",
      "activation_2 (Activation)    (None, 7, 7, 64)          0         \n",
      "_________________________________________________________________\n",
      "dropout_2 (Dropout)          (None, 7, 7, 64)          0         \n",
      "_________________________________________________________________\n",
      "max_pooling2d_2 (MaxPooling2 (None, 2, 2, 64)          0         \n",
      "=================================================================\n",
      "Total params: 49,920\n",
      "Trainable params: 49,920\n",
      "Non-trainable params: 0\n",
      "_________________________________________________________________\n"
     ]
    }
   ],
   "source": [
    "# Adding third layer\n",
    "\n",
    "model.add(Conv2D(64,(2,2),input_shape=x_train.shape[1:])) # -1 does not show shape\n",
    "model.add(Activation('relu'))\n",
    "#model.add(BatchNormalization())\n",
    "model.add(Dropout(rate=0.20))\n",
    "model.add(MaxPooling2D(pool_size=(3,3)))\n",
    "model.summary()"
   ]
  },
  {
   "cell_type": "code",
   "execution_count": 12,
   "metadata": {},
   "outputs": [
    {
     "name": "stdout",
     "output_type": "stream",
     "text": [
      "Model: \"sequential\"\n",
      "_________________________________________________________________\n",
      "Layer (type)                 Output Shape              Param #   \n",
      "=================================================================\n",
      "conv2d (Conv2D)              (None, 79, 79, 128)       640       \n",
      "_________________________________________________________________\n",
      "activation (Activation)      (None, 79, 79, 128)       0         \n",
      "_________________________________________________________________\n",
      "dropout (Dropout)            (None, 79, 79, 128)       0         \n",
      "_________________________________________________________________\n",
      "max_pooling2d (MaxPooling2D) (None, 26, 26, 128)       0         \n",
      "_________________________________________________________________\n",
      "conv2d_1 (Conv2D)            (None, 25, 25, 64)        32832     \n",
      "_________________________________________________________________\n",
      "activation_1 (Activation)    (None, 25, 25, 64)        0         \n",
      "_________________________________________________________________\n",
      "dropout_1 (Dropout)          (None, 25, 25, 64)        0         \n",
      "_________________________________________________________________\n",
      "max_pooling2d_1 (MaxPooling2 (None, 8, 8, 64)          0         \n",
      "_________________________________________________________________\n",
      "conv2d_2 (Conv2D)            (None, 7, 7, 64)          16448     \n",
      "_________________________________________________________________\n",
      "activation_2 (Activation)    (None, 7, 7, 64)          0         \n",
      "_________________________________________________________________\n",
      "dropout_2 (Dropout)          (None, 7, 7, 64)          0         \n",
      "_________________________________________________________________\n",
      "max_pooling2d_2 (MaxPooling2 (None, 2, 2, 64)          0         \n",
      "_________________________________________________________________\n",
      "flatten (Flatten)            (None, 256)               0         \n",
      "_________________________________________________________________\n",
      "dense (Dense)                (None, 32)                8224      \n",
      "_________________________________________________________________\n",
      "activation_3 (Activation)    (None, 32)                0         \n",
      "_________________________________________________________________\n",
      "dropout_3 (Dropout)          (None, 32)                0         \n",
      "_________________________________________________________________\n",
      "dense_1 (Dense)              (None, 2)                 66        \n",
      "_________________________________________________________________\n",
      "activation_4 (Activation)    (None, 2)                 0         \n",
      "=================================================================\n",
      "Total params: 58,210\n",
      "Trainable params: 58,210\n",
      "Non-trainable params: 0\n",
      "_________________________________________________________________\n"
     ]
    }
   ],
   "source": [
    "# We now follow the process followed in a normal neural network\n",
    "\n",
    "model.add(Flatten())\n",
    "model.add(Dense(32))\n",
    "model.add(Activation('relu'))\n",
    "model.add(Dropout(rate=0.20))\n",
    "\n",
    "# Final Layer\n",
    "model.add(Dense(2))\n",
    "model.add(Activation('softmax'))\n",
    "model.summary()"
   ]
  },
  {
   "cell_type": "code",
   "execution_count": 13,
   "metadata": {},
   "outputs": [],
   "source": [
    "# Compiling CNN Model"
   ]
  },
  {
   "cell_type": "code",
   "execution_count": 14,
   "metadata": {},
   "outputs": [
    {
     "name": "stdout",
     "output_type": "stream",
     "text": [
      "Model: \"sequential\"\n",
      "_________________________________________________________________\n",
      "Layer (type)                 Output Shape              Param #   \n",
      "=================================================================\n",
      "conv2d (Conv2D)              (None, 79, 79, 128)       640       \n",
      "_________________________________________________________________\n",
      "activation (Activation)      (None, 79, 79, 128)       0         \n",
      "_________________________________________________________________\n",
      "dropout (Dropout)            (None, 79, 79, 128)       0         \n",
      "_________________________________________________________________\n",
      "max_pooling2d (MaxPooling2D) (None, 26, 26, 128)       0         \n",
      "_________________________________________________________________\n",
      "conv2d_1 (Conv2D)            (None, 25, 25, 64)        32832     \n",
      "_________________________________________________________________\n",
      "activation_1 (Activation)    (None, 25, 25, 64)        0         \n",
      "_________________________________________________________________\n",
      "dropout_1 (Dropout)          (None, 25, 25, 64)        0         \n",
      "_________________________________________________________________\n",
      "max_pooling2d_1 (MaxPooling2 (None, 8, 8, 64)          0         \n",
      "_________________________________________________________________\n",
      "conv2d_2 (Conv2D)            (None, 7, 7, 64)          16448     \n",
      "_________________________________________________________________\n",
      "activation_2 (Activation)    (None, 7, 7, 64)          0         \n",
      "_________________________________________________________________\n",
      "dropout_2 (Dropout)          (None, 7, 7, 64)          0         \n",
      "_________________________________________________________________\n",
      "max_pooling2d_2 (MaxPooling2 (None, 2, 2, 64)          0         \n",
      "_________________________________________________________________\n",
      "flatten (Flatten)            (None, 256)               0         \n",
      "_________________________________________________________________\n",
      "dense (Dense)                (None, 32)                8224      \n",
      "_________________________________________________________________\n",
      "activation_3 (Activation)    (None, 32)                0         \n",
      "_________________________________________________________________\n",
      "dropout_3 (Dropout)          (None, 32)                0         \n",
      "_________________________________________________________________\n",
      "dense_1 (Dense)              (None, 2)                 66        \n",
      "_________________________________________________________________\n",
      "activation_4 (Activation)    (None, 2)                 0         \n",
      "=================================================================\n",
      "Total params: 58,210\n",
      "Trainable params: 58,210\n",
      "Non-trainable params: 0\n",
      "_________________________________________________________________\n"
     ]
    }
   ],
   "source": [
    "opt = tf.keras.optimizers.Adam(lr=0.001, decay=1e-6)\n",
    "#sgd = tf.keras.optimizers.SGD(lr=0.01, decay=1e-6, momentum=0.9, nesterov=True)\n",
    "#rms=tf.keras.optimizers.RMSprop(learning_rate=0.001, rho=0.9)\n",
    "#adgrad=tf.keras.optimizers.Adagrad(learning_rate=0.01)\n",
    "\n",
    "model.compile(optimizer=opt,loss='sparse_categorical_crossentropy',metrics=['accuracy'])\n",
    "model.summary()"
   ]
  },
  {
   "cell_type": "code",
   "execution_count": 15,
   "metadata": {},
   "outputs": [
    {
     "name": "stdout",
     "output_type": "stream",
     "text": [
      "Train on 5216 samples, validate on 16 samples\n",
      "Epoch 1/10\n",
      "5216/5216 [==============================] - 171s 33ms/sample - loss: 0.4487 - acc: 0.7993 - val_loss: 0.6849 - val_acc: 0.6250\n",
      "Epoch 2/10\n",
      "5216/5216 [==============================] - 118s 23ms/sample - loss: 0.2452 - acc: 0.9009 - val_loss: 0.6613 - val_acc: 0.6250\n",
      "Epoch 3/10\n",
      "5216/5216 [==============================] - 116s 22ms/sample - loss: 0.1850 - acc: 0.9287 - val_loss: 0.4073 - val_acc: 0.7500\n",
      "Epoch 4/10\n",
      "5216/5216 [==============================] - 114s 22ms/sample - loss: 0.1587 - acc: 0.9390 - val_loss: 0.3454 - val_acc: 0.8750\n",
      "Epoch 5/10\n",
      "5216/5216 [==============================] - 111s 21ms/sample - loss: 0.1406 - acc: 0.9473 - val_loss: 0.6318 - val_acc: 0.6875\n",
      "Epoch 6/10\n",
      "5216/5216 [==============================] - 112s 21ms/sample - loss: 0.1252 - acc: 0.9530 - val_loss: 0.3277 - val_acc: 0.8750\n",
      "Epoch 7/10\n",
      "5216/5216 [==============================] - 111s 21ms/sample - loss: 0.1133 - acc: 0.9551 - val_loss: 0.4955 - val_acc: 0.6875\n",
      "Epoch 8/10\n",
      "5216/5216 [==============================] - 110s 21ms/sample - loss: 0.0994 - acc: 0.9647 - val_loss: 0.2984 - val_acc: 0.8750\n",
      "Epoch 9/10\n",
      "5216/5216 [==============================] - 110s 21ms/sample - loss: 0.0927 - acc: 0.9641 - val_loss: 0.2065 - val_acc: 1.0000\n",
      "Epoch 10/10\n",
      "5216/5216 [==============================] - 110s 21ms/sample - loss: 0.0930 - acc: 0.9680 - val_loss: 0.3036 - val_acc: 0.8750\n"
     ]
    },
    {
     "data": {
      "text/plain": [
       "<tensorflow.python.keras.callbacks.History at 0x20801affb48>"
      ]
     },
     "execution_count": 15,
     "metadata": {},
     "output_type": "execute_result"
    }
   ],
   "source": [
    "# Train model\n",
    "model.fit(x_train,y_train, epochs=10,validation_data=(x_val,y_val))"
   ]
  },
  {
   "cell_type": "code",
   "execution_count": 16,
   "metadata": {},
   "outputs": [],
   "source": [
    "# To save the model\n",
    "\n",
    "model.save(\"CHEST_XRAY.model\")"
   ]
  },
  {
   "cell_type": "code",
   "execution_count": 17,
   "metadata": {},
   "outputs": [
    {
     "data": {
      "image/png": "[encoded data removed]",
      "text/plain": [
       "<Figure size 432x288 with 1 Axes>"
      ]
     },
     "metadata": {
      "needs_background": "light"
     },
     "output_type": "display_data"
    }
   ],
   "source": [
    "# ploting to check various factors\n",
    "\n",
    "import matplotlib.pyplot as plt\n",
    "import pandas as pd\n",
    "\n",
    "pd.DataFrame(model.history.history).plot()\n",
    "plt.show()"
   ]
  },
  {
   "cell_type": "code",
   "execution_count": 44,
   "metadata": {},
   "outputs": [
    {
     "name": "stdout",
     "output_type": "stream",
     "text": [
      "624/624 [==============================] - 3s 4ms/sample - loss: 0.4785 - acc: 0.7997\n",
      "0.47854673723952895 0.79967946\n"
     ]
    }
   ],
   "source": [
    "loss,acc=model.evaluate(x_test,y_test)\n",
    "print(loss,acc)"
   ]
  },
  {
   "cell_type": "code",
   "execution_count": null,
   "metadata": {},
   "outputs": [],
   "source": [
    "# To load the model again\n",
    "\n",
    "model=tf.keras.models.load_model(\"CHEST_XRAY.model\")"
   ]
  },
  {
   "cell_type": "code",
   "execution_count": null,
   "metadata": {},
   "outputs": [],
   "source": [
    "# to load and test with images"
   ]
  },
  {
   "cell_type": "code",
   "execution_count": 20,
   "metadata": {},
   "outputs": [],
   "source": [
    "import os # To create paths and itreate through directories\n",
    "import cv2 #image operations\n",
    "\n",
    "Categories=[\"NORMAL\",\"PNEUMONIA\"]\n",
    "# Preprocessing function\n",
    "\n",
    "def preprocess(filepath):\n",
    "    IMG_SIZE=80 # same as before\n",
    "    image_array=cv2.imread(filepath, cv2.IMREAD_GRAYSCALE) \n",
    "    new_array=cv2.resize(image_array,(IMG_SIZE,IMG_SIZE))\n",
    "    return new_array.reshape(-1,IMG_SIZE,IMG_SIZE,1)\n",
    "    "
   ]
  },
  {
   "cell_type": "code",
   "execution_count": 40,
   "metadata": {},
   "outputs": [],
   "source": [
    "prediction=model.predict([preprocess(\"NORMAL.jpeg\")])\n",
    "pred=prediction.astype('int').tolist()[0][0]\n",
    "\n",
    "# Creating the prediction"
   ]
  },
  {
   "cell_type": "code",
   "execution_count": 41,
   "metadata": {},
   "outputs": [
    {
     "data": {
      "text/plain": [
       "'NORMAL'"
      ]
     },
     "execution_count": 41,
     "metadata": {},
     "output_type": "execute_result"
    }
   ],
   "source": [
    "Categories[pred]\n",
    "\n",
    "# Printing actual prediction"
   ]
  },
  {
   "cell_type": "code",
   "execution_count": 42,
   "metadata": {},
   "outputs": [],
   "source": [
    "prediction2=model.predict([preprocess(\"PNEUMONIA.jpeg\")])\n",
    "pred2=prediction2.astype('int').tolist()[0][0]\n"
   ]
  },
  {
   "cell_type": "code",
   "execution_count": 43,
   "metadata": {},
   "outputs": [
    {
     "data": {
      "text/plain": [
       "'NORMAL'"
      ]
     },
     "execution_count": 43,
     "metadata": {},
     "output_type": "execute_result"
    }
   ],
   "source": [
    "Categories[int(pred2)]"
   ]
  },
  {
   "cell_type": "code",
   "execution_count": null,
   "metadata": {},
   "outputs": [],
   "source": [
    "# Please note that prediction2.astype('int').tolist()[0][1] will always have a value of 1 since it indicates that image is greyscale"
   ]
  }
 ],
 "metadata": {
  "kernelspec": {
   "display_name": "Python 3",
   "language": "python",
   "name": "python3"
  },
  "language_info": {
   "codemirror_mode": {
    "name": "ipython",
    "version": 3
   },
   "file_extension": ".py",
   "mimetype": "text/x-python",
   "name": "python",
   "nbconvert_exporter": "python",
   "pygments_lexer": "ipython3",
   "version": "3.7.6"
  }
 },
 "nbformat": 4,
 "nbformat_minor": 4
}
